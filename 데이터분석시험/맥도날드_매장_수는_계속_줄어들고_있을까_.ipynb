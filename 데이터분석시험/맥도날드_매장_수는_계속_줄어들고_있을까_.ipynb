{
  "nbformat": 4,
  "nbformat_minor": 0,
  "metadata": {
    "colab": {
      "provenance": []
    },
    "kernelspec": {
      "name": "python3",
      "display_name": "Python 3"
    },
    "language_info": {
      "name": "python"
    }
  },
  "cells": [
    {
      "cell_type": "code",
      "execution_count": 1,
      "metadata": {
        "id": "m13LHwPCcLLG"
      },
      "outputs": [],
      "source": [
        "import pandas as pd\n",
        "import matplotlib.pyplot as plt\n",
        "import seaborn as sns"
      ]
    },
    {
      "cell_type": "code",
      "source": [
        "!sudo apt-get install -y fonts-nanum\n",
        "!sudo fc-cache -fv\n",
        "!rm ~/.cache/matplotlib -rf\n",
        "\n",
        "plt.rc(\"font\", family=\"NanumBarunGothic\")"
      ],
      "metadata": {
        "colab": {
          "base_uri": "https://localhost:8080/"
        },
        "id": "nD78DCdxcaq8",
        "outputId": "faed2d26-c3f1-406f-aa6f-b6a4e2fa2b84"
      },
      "execution_count": 2,
      "outputs": [
        {
          "output_type": "stream",
          "name": "stdout",
          "text": [
            "Reading package lists... Done\n",
            "Building dependency tree       \n",
            "Reading state information... Done\n",
            "fonts-nanum is already the newest version (20180306-3).\n",
            "0 upgraded, 0 newly installed, 0 to remove and 34 not upgraded.\n",
            "/usr/share/fonts: caching, new cache contents: 0 fonts, 1 dirs\n",
            "/usr/share/fonts/truetype: caching, new cache contents: 0 fonts, 3 dirs\n",
            "/usr/share/fonts/truetype/humor-sans: caching, new cache contents: 1 fonts, 0 dirs\n",
            "/usr/share/fonts/truetype/liberation: caching, new cache contents: 16 fonts, 0 dirs\n",
            "/usr/share/fonts/truetype/nanum: caching, new cache contents: 10 fonts, 0 dirs\n",
            "/usr/local/share/fonts: caching, new cache contents: 0 fonts, 0 dirs\n",
            "/root/.local/share/fonts: skipping, no such directory\n",
            "/root/.fonts: skipping, no such directory\n",
            "/usr/share/fonts/truetype: skipping, looped directory detected\n",
            "/usr/share/fonts/truetype/humor-sans: skipping, looped directory detected\n",
            "/usr/share/fonts/truetype/liberation: skipping, looped directory detected\n",
            "/usr/share/fonts/truetype/nanum: skipping, looped directory detected\n",
            "/var/cache/fontconfig: cleaning cache directory\n",
            "/root/.cache/fontconfig: not cleaning non-existent cache directory\n",
            "/root/.fontconfig: not cleaning non-existent cache directory\n",
            "fc-cache: succeeded\n"
          ]
        }
      ]
    },
    {
      "cell_type": "code",
      "source": [
        "df_gangwon = pd.read_csv('/content/drive/MyDrive/Colab Notebooks/소상공인시장진흥공단_상가(상권)정보_강원_202303.csv')\n",
        "df_gyeonggi = pd.read_csv('/content/drive/MyDrive/Colab Notebooks/소상공인시장진흥공단_상가(상권)정보_경기_202303.csv')\n",
        "df_gyeongnam = pd.read_csv('/content/drive/MyDrive/Colab Notebooks/소상공인시장진흥공단_상가(상권)정보_경남_202303.csv')\n",
        "df_gyeongbuk = pd.read_csv('/content/drive/MyDrive/Colab Notebooks/소상공인시장진흥공단_상가(상권)정보_경북_202303.csv')\n",
        "df_gwangju = pd.read_csv('/content/drive/MyDrive/Colab Notebooks/소상공인시장진흥공단_상가(상권)정보_광주_202303.csv')\n",
        "df_daegu = pd.read_csv('/content/drive/MyDrive/Colab Notebooks/소상공인시장진흥공단_상가(상권)정보_대구_202303.csv')\n",
        "df_daejeon = pd.read_csv('/content/drive/MyDrive/Colab Notebooks/소상공인시장진흥공단_상가(상권)정보_대전_202303.csv')\n",
        "df_busan = pd.read_csv('/content/drive/MyDrive/Colab Notebooks/소상공인시장진흥공단_상가(상권)정보_부산_202303.csv')\n",
        "df_seoul = pd.read_csv('/content/drive/MyDrive/Colab Notebooks/소상공인시장진흥공단_상가(상권)정보_서울_202303.csv')\n",
        "df_sejong = pd.read_csv('/content/drive/MyDrive/Colab Notebooks/소상공인시장진흥공단_상가(상권)정보_세종_202303.csv')\n",
        "df_ulsan = pd.read_csv('/content/drive/MyDrive/Colab Notebooks/소상공인시장진흥공단_상가(상권)정보_울산_202303.csv')\n",
        "df_incheon = pd.read_csv('/content/drive/MyDrive/Colab Notebooks/소상공인시장진흥공단_상가(상권)정보_인천_202303.csv')\n",
        "df_jeonnam = pd.read_csv('/content/drive/MyDrive/Colab Notebooks/소상공인시장진흥공단_상가(상권)정보_전남_202303.csv')\n",
        "df_jeonbuk = pd.read_csv('/content/drive/MyDrive/Colab Notebooks/소상공인시장진흥공단_상가(상권)정보_전북_202303.csv')\n",
        "df_jeju = pd.read_csv('/content/drive/MyDrive/Colab Notebooks/소상공인시장진흥공단_상가(상권)정보_제주_202303.csv')\n",
        "df_chungnam = pd.read_csv('/content/drive/MyDrive/Colab Notebooks/소상공인시장진흥공단_상가(상권)정보_충남_202303.csv')\n",
        "df_chungbuk = pd.read_csv('/content/drive/MyDrive/Colab Notebooks/소상공인시장진흥공단_상가(상권)정보_충북_202303.csv')"
      ],
      "metadata": {
        "colab": {
          "base_uri": "https://localhost:8080/"
        },
        "id": "bgDT2Ztlca92",
        "outputId": "ea7c24da-0c3f-4e63-eae4-61a0a0c1dfbf"
      },
      "execution_count": 3,
      "outputs": [
        {
          "output_type": "stream",
          "name": "stderr",
          "text": [
            "<ipython-input-3-987750f7f95d>:1: DtypeWarning: Columns (2) have mixed types. Specify dtype option on import or set low_memory=False.\n",
            "  df_gangwon = pd.read_csv('/content/drive/MyDrive/Colab Notebooks/소상공인시장진흥공단_상가(상권)정보_강원_202303.csv')\n",
            "<ipython-input-3-987750f7f95d>:2: DtypeWarning: Columns (2) have mixed types. Specify dtype option on import or set low_memory=False.\n",
            "  df_gyeonggi = pd.read_csv('/content/drive/MyDrive/Colab Notebooks/소상공인시장진흥공단_상가(상권)정보_경기_202303.csv')\n",
            "<ipython-input-3-987750f7f95d>:3: DtypeWarning: Columns (2,35) have mixed types. Specify dtype option on import or set low_memory=False.\n",
            "  df_gyeongnam = pd.read_csv('/content/drive/MyDrive/Colab Notebooks/소상공인시장진흥공단_상가(상권)정보_경남_202303.csv')\n",
            "<ipython-input-3-987750f7f95d>:4: DtypeWarning: Columns (2,35) have mixed types. Specify dtype option on import or set low_memory=False.\n",
            "  df_gyeongbuk = pd.read_csv('/content/drive/MyDrive/Colab Notebooks/소상공인시장진흥공단_상가(상권)정보_경북_202303.csv')\n",
            "<ipython-input-3-987750f7f95d>:5: DtypeWarning: Columns (2) have mixed types. Specify dtype option on import or set low_memory=False.\n",
            "  df_gwangju = pd.read_csv('/content/drive/MyDrive/Colab Notebooks/소상공인시장진흥공단_상가(상권)정보_광주_202303.csv')\n",
            "<ipython-input-3-987750f7f95d>:6: DtypeWarning: Columns (2) have mixed types. Specify dtype option on import or set low_memory=False.\n",
            "  df_daegu = pd.read_csv('/content/drive/MyDrive/Colab Notebooks/소상공인시장진흥공단_상가(상권)정보_대구_202303.csv')\n",
            "<ipython-input-3-987750f7f95d>:7: DtypeWarning: Columns (2) have mixed types. Specify dtype option on import or set low_memory=False.\n",
            "  df_daejeon = pd.read_csv('/content/drive/MyDrive/Colab Notebooks/소상공인시장진흥공단_상가(상권)정보_대전_202303.csv')\n",
            "<ipython-input-3-987750f7f95d>:8: DtypeWarning: Columns (2) have mixed types. Specify dtype option on import or set low_memory=False.\n",
            "  df_busan = pd.read_csv('/content/drive/MyDrive/Colab Notebooks/소상공인시장진흥공단_상가(상권)정보_부산_202303.csv')\n",
            "<ipython-input-3-987750f7f95d>:9: DtypeWarning: Columns (2) have mixed types. Specify dtype option on import or set low_memory=False.\n",
            "  df_seoul = pd.read_csv('/content/drive/MyDrive/Colab Notebooks/소상공인시장진흥공단_상가(상권)정보_서울_202303.csv')\n",
            "<ipython-input-3-987750f7f95d>:11: DtypeWarning: Columns (2,35) have mixed types. Specify dtype option on import or set low_memory=False.\n",
            "  df_ulsan = pd.read_csv('/content/drive/MyDrive/Colab Notebooks/소상공인시장진흥공단_상가(상권)정보_울산_202303.csv')\n",
            "<ipython-input-3-987750f7f95d>:12: DtypeWarning: Columns (2) have mixed types. Specify dtype option on import or set low_memory=False.\n",
            "  df_incheon = pd.read_csv('/content/drive/MyDrive/Colab Notebooks/소상공인시장진흥공단_상가(상권)정보_인천_202303.csv')\n",
            "<ipython-input-3-987750f7f95d>:13: DtypeWarning: Columns (2) have mixed types. Specify dtype option on import or set low_memory=False.\n",
            "  df_jeonnam = pd.read_csv('/content/drive/MyDrive/Colab Notebooks/소상공인시장진흥공단_상가(상권)정보_전남_202303.csv')\n",
            "<ipython-input-3-987750f7f95d>:14: DtypeWarning: Columns (2) have mixed types. Specify dtype option on import or set low_memory=False.\n",
            "  df_jeonbuk = pd.read_csv('/content/drive/MyDrive/Colab Notebooks/소상공인시장진흥공단_상가(상권)정보_전북_202303.csv')\n",
            "<ipython-input-3-987750f7f95d>:15: DtypeWarning: Columns (2) have mixed types. Specify dtype option on import or set low_memory=False.\n",
            "  df_jeju = pd.read_csv('/content/drive/MyDrive/Colab Notebooks/소상공인시장진흥공단_상가(상권)정보_제주_202303.csv')\n",
            "<ipython-input-3-987750f7f95d>:16: DtypeWarning: Columns (2) have mixed types. Specify dtype option on import or set low_memory=False.\n",
            "  df_chungnam = pd.read_csv('/content/drive/MyDrive/Colab Notebooks/소상공인시장진흥공단_상가(상권)정보_충남_202303.csv')\n",
            "<ipython-input-3-987750f7f95d>:17: DtypeWarning: Columns (2,35) have mixed types. Specify dtype option on import or set low_memory=False.\n",
            "  df_chungbuk = pd.read_csv('/content/drive/MyDrive/Colab Notebooks/소상공인시장진흥공단_상가(상권)정보_충북_202303.csv')\n"
          ]
        }
      ]
    },
    {
      "cell_type": "code",
      "source": [
        "df_2023 = pd.concat([df_gangwon, df_gyeonggi, df_gyeongnam, df_gyeongbuk, df_gwangju, df_daegu, df_daejeon, df_busan, df_seoul, df_sejong,\n",
        "                      df_ulsan, df_incheon, df_jeonnam, df_jeonbuk, df_jeju, df_chungnam, df_chungbuk], axis=0)"
      ],
      "metadata": {
        "id": "X5zcCgjSchAF"
      },
      "execution_count": 4,
      "outputs": []
    },
    {
      "cell_type": "code",
      "source": [
        "df_gangwon_2022 = pd.read_csv('/content/drive/MyDrive/Colab Notebooks/2022/소상공인시장진흥공단_상가(상권)정보_강원_202209.csv')\n",
        "df_gyeonggi_2022 = pd.read_csv('/content/drive/MyDrive/Colab Notebooks/2022/소상공인시장진흥공단_상가(상권)정보_경기_202209.csv')\n",
        "df_gyeongnam_2022 = pd.read_csv('/content/drive/MyDrive/Colab Notebooks/2022/소상공인시장진흥공단_상가(상권)정보_경남_202209.csv')\n",
        "df_gyeongbuk_2022 = pd.read_csv('/content/drive/MyDrive/Colab Notebooks/2022/소상공인시장진흥공단_상가(상권)정보_경북_202209.csv')\n",
        "df_gwangju_2022 = pd.read_csv('/content/drive/MyDrive/Colab Notebooks/2022/소상공인시장진흥공단_상가(상권)정보_광주_202209.csv')\n",
        "df_daegu_2022 = pd.read_csv('/content/drive/MyDrive/Colab Notebooks/2022/소상공인시장진흥공단_상가(상권)정보_대구_202209.csv')\n",
        "df_daejeon_2022 = pd.read_csv('/content/drive/MyDrive/Colab Notebooks/2022/소상공인시장진흥공단_상가(상권)정보_대전_202209.csv')\n",
        "df_busan_2022 = pd.read_csv('/content/drive/MyDrive/Colab Notebooks/2022/소상공인시장진흥공단_상가(상권)정보_부산_202209.csv')\n",
        "df_seoul_2022 = pd.read_csv('/content/drive/MyDrive/Colab Notebooks/2022/소상공인시장진흥공단_상가(상권)정보_서울_202209.csv')\n",
        "df_sejong_2022 = pd.read_csv('/content/drive/MyDrive/Colab Notebooks/2022/소상공인시장진흥공단_상가(상권)정보_세종_202209.csv')\n",
        "df_ulsan_2022 = pd.read_csv('/content/drive/MyDrive/Colab Notebooks/2022/소상공인시장진흥공단_상가(상권)정보_울산_202209.csv')\n",
        "df_incheon_2022 = pd.read_csv('/content/drive/MyDrive/Colab Notebooks/2022/소상공인시장진흥공단_상가(상권)정보_인천_202209.csv')\n",
        "df_jeonnam_2022 = pd.read_csv('/content/drive/MyDrive/Colab Notebooks/2022/소상공인시장진흥공단_상가(상권)정보_전남_202209.csv')\n",
        "df_jeonbuk_2022 = pd.read_csv('/content/drive/MyDrive/Colab Notebooks/2022/소상공인시장진흥공단_상가(상권)정보_전북_202209.csv')\n",
        "df_jeju_2022 = pd.read_csv('/content/drive/MyDrive/Colab Notebooks/2022/소상공인시장진흥공단_상가(상권)정보_제주_202209.csv')\n",
        "df_chungnam_2022 = pd.read_csv('/content/drive/MyDrive/Colab Notebooks/2022/소상공인시장진흥공단_상가(상권)정보_충남_202209.csv')\n",
        "df_chungbuk_2022 = pd.read_csv('/content/drive/MyDrive/Colab Notebooks/2022/소상공인시장진흥공단_상가(상권)정보_충북_202209.csv')"
      ],
      "metadata": {
        "colab": {
          "base_uri": "https://localhost:8080/"
        },
        "id": "uCJ64xiid1UQ",
        "outputId": "c71ca15e-439d-401f-8f14-477a2486b60a"
      },
      "execution_count": 5,
      "outputs": [
        {
          "output_type": "stream",
          "name": "stderr",
          "text": [
            "<ipython-input-5-0fb336757214>:3: DtypeWarning: Columns (35) have mixed types. Specify dtype option on import or set low_memory=False.\n",
            "  df_gyeongnam_2022 = pd.read_csv('/content/drive/MyDrive/Colab Notebooks/2022/소상공인시장진흥공단_상가(상권)정보_경남_202209.csv')\n",
            "<ipython-input-5-0fb336757214>:4: DtypeWarning: Columns (35) have mixed types. Specify dtype option on import or set low_memory=False.\n",
            "  df_gyeongbuk_2022 = pd.read_csv('/content/drive/MyDrive/Colab Notebooks/2022/소상공인시장진흥공단_상가(상권)정보_경북_202209.csv')\n",
            "<ipython-input-5-0fb336757214>:11: DtypeWarning: Columns (35) have mixed types. Specify dtype option on import or set low_memory=False.\n",
            "  df_ulsan_2022 = pd.read_csv('/content/drive/MyDrive/Colab Notebooks/2022/소상공인시장진흥공단_상가(상권)정보_울산_202209.csv')\n",
            "<ipython-input-5-0fb336757214>:13: DtypeWarning: Columns (35) have mixed types. Specify dtype option on import or set low_memory=False.\n",
            "  df_jeonnam_2022 = pd.read_csv('/content/drive/MyDrive/Colab Notebooks/2022/소상공인시장진흥공단_상가(상권)정보_전남_202209.csv')\n",
            "<ipython-input-5-0fb336757214>:14: DtypeWarning: Columns (35) have mixed types. Specify dtype option on import or set low_memory=False.\n",
            "  df_jeonbuk_2022 = pd.read_csv('/content/drive/MyDrive/Colab Notebooks/2022/소상공인시장진흥공단_상가(상권)정보_전북_202209.csv')\n",
            "<ipython-input-5-0fb336757214>:16: DtypeWarning: Columns (35) have mixed types. Specify dtype option on import or set low_memory=False.\n",
            "  df_chungnam_2022 = pd.read_csv('/content/drive/MyDrive/Colab Notebooks/2022/소상공인시장진흥공단_상가(상권)정보_충남_202209.csv')\n",
            "<ipython-input-5-0fb336757214>:17: DtypeWarning: Columns (35) have mixed types. Specify dtype option on import or set low_memory=False.\n",
            "  df_chungbuk_2022 = pd.read_csv('/content/drive/MyDrive/Colab Notebooks/2022/소상공인시장진흥공단_상가(상권)정보_충북_202209.csv')\n"
          ]
        }
      ]
    },
    {
      "cell_type": "code",
      "source": [
        "df_2022 = pd.concat([df_gangwon_2022,\n",
        "df_gyeonggi_2022,\n",
        "df_gyeongnam_2022,\n",
        "df_gyeongbuk_2022,\n",
        "df_gwangju_2022,\n",
        "df_daegu_2022,\n",
        "df_daejeon_2022,\n",
        "df_busan_2022,\n",
        "df_seoul_2022,\n",
        "df_sejong_2022,\n",
        "df_ulsan_2022,\n",
        "df_incheon_2022,\n",
        "df_jeonnam_2022,\n",
        "df_jeonbuk_2022,\n",
        "df_jeju_2022,\n",
        "df_chungnam_2022,\n",
        "df_chungbuk_2022,], axis=0)"
      ],
      "metadata": {
        "id": "VBiUWIk6e3v4"
      },
      "execution_count": 6,
      "outputs": []
    },
    {
      "cell_type": "code",
      "source": [
        "df_gangwon_2021 = pd.read_csv('/content/drive/MyDrive/Colab Notebooks/2021/소상공인시장진흥공단_상가(상권)정보_강원_202112.csv')\n",
        "df_gyeonggi_2021 = pd.read_csv('/content/drive/MyDrive/Colab Notebooks/2021/소상공인시장진흥공단_상가(상권)정보_경기_202112.csv')\n",
        "df_gyeongnam_2021 = pd.read_csv('/content/drive/MyDrive/Colab Notebooks/2021/소상공인시장진흥공단_상가(상권)정보_경남_202112.csv')\n",
        "df_gyeongbuk_2021 = pd.read_csv('/content/drive/MyDrive/Colab Notebooks/2021/소상공인시장진흥공단_상가(상권)정보_경북_202112.csv')\n",
        "df_gwangju_2021 = pd.read_csv('/content/drive/MyDrive/Colab Notebooks/2021/소상공인시장진흥공단_상가(상권)정보_광주_202112.csv')\n",
        "df_daegu_2021 = pd.read_csv('/content/drive/MyDrive/Colab Notebooks/2021/소상공인시장진흥공단_상가(상권)정보_대구_202112.csv')\n",
        "df_daejeon_2021 = pd.read_csv('/content/drive/MyDrive/Colab Notebooks/2021/소상공인시장진흥공단_상가(상권)정보_대전_202112.csv')\n",
        "df_busan_2021 = pd.read_csv('/content/drive/MyDrive/Colab Notebooks/2021/소상공인시장진흥공단_상가(상권)정보_부산_202112.csv')\n",
        "df_seoul_2021 = pd.read_csv('/content/drive/MyDrive/Colab Notebooks/2021/소상공인시장진흥공단_상가(상권)정보_서울_202112.csv')\n",
        "df_sejong_2021 = pd.read_csv('/content/drive/MyDrive/Colab Notebooks/2021/소상공인시장진흥공단_상가(상권)정보_세종_202112.csv')\n",
        "df_ulsan_2021 = pd.read_csv('/content/drive/MyDrive/Colab Notebooks/2021/소상공인시장진흥공단_상가(상권)정보_울산_202112.csv')\n",
        "df_incheon_2021 = pd.read_csv('/content/drive/MyDrive/Colab Notebooks/2021/소상공인시장진흥공단_상가(상권)정보_인천_202112.csv')\n",
        "df_jeonnam_2021 = pd.read_csv('/content/drive/MyDrive/Colab Notebooks/2021/소상공인시장진흥공단_상가(상권)정보_전남_202112.csv')\n",
        "df_jeonbuk_2021 = pd.read_csv('/content/drive/MyDrive/Colab Notebooks/2021/소상공인시장진흥공단_상가(상권)정보_전북_202112.csv')\n",
        "df_jeju_2021 = pd.read_csv('/content/drive/MyDrive/Colab Notebooks/2021/소상공인시장진흥공단_상가(상권)정보_제주_202112.csv')\n",
        "df_chungnam_2021 = pd.read_csv('/content/drive/MyDrive/Colab Notebooks/2021/소상공인시장진흥공단_상가(상권)정보_충남_202112.csv')\n",
        "df_chungbuk_2021 = pd.read_csv('/content/drive/MyDrive/Colab Notebooks/2021/소상공인시장진흥공단_상가(상권)정보_충북_202112.csv')"
      ],
      "metadata": {
        "colab": {
          "base_uri": "https://localhost:8080/"
        },
        "id": "4em8VoOxe29g",
        "outputId": "5f807da0-bd45-4624-f2cb-e3326843bd7f"
      },
      "execution_count": 7,
      "outputs": [
        {
          "output_type": "stream",
          "name": "stderr",
          "text": [
            "<ipython-input-7-e1be4645fbcf>:3: DtypeWarning: Columns (35) have mixed types. Specify dtype option on import or set low_memory=False.\n",
            "  df_gyeongnam_2021 = pd.read_csv('/content/drive/MyDrive/Colab Notebooks/2021/소상공인시장진흥공단_상가(상권)정보_경남_202112.csv')\n",
            "<ipython-input-7-e1be4645fbcf>:4: DtypeWarning: Columns (35) have mixed types. Specify dtype option on import or set low_memory=False.\n",
            "  df_gyeongbuk_2021 = pd.read_csv('/content/drive/MyDrive/Colab Notebooks/2021/소상공인시장진흥공단_상가(상권)정보_경북_202112.csv')\n",
            "<ipython-input-7-e1be4645fbcf>:6: DtypeWarning: Columns (35) have mixed types. Specify dtype option on import or set low_memory=False.\n",
            "  df_daegu_2021 = pd.read_csv('/content/drive/MyDrive/Colab Notebooks/2021/소상공인시장진흥공단_상가(상권)정보_대구_202112.csv')\n",
            "<ipython-input-7-e1be4645fbcf>:11: DtypeWarning: Columns (35) have mixed types. Specify dtype option on import or set low_memory=False.\n",
            "  df_ulsan_2021 = pd.read_csv('/content/drive/MyDrive/Colab Notebooks/2021/소상공인시장진흥공단_상가(상권)정보_울산_202112.csv')\n",
            "<ipython-input-7-e1be4645fbcf>:13: DtypeWarning: Columns (35) have mixed types. Specify dtype option on import or set low_memory=False.\n",
            "  df_jeonnam_2021 = pd.read_csv('/content/drive/MyDrive/Colab Notebooks/2021/소상공인시장진흥공단_상가(상권)정보_전남_202112.csv')\n",
            "<ipython-input-7-e1be4645fbcf>:14: DtypeWarning: Columns (35) have mixed types. Specify dtype option on import or set low_memory=False.\n",
            "  df_jeonbuk_2021 = pd.read_csv('/content/drive/MyDrive/Colab Notebooks/2021/소상공인시장진흥공단_상가(상권)정보_전북_202112.csv')\n",
            "<ipython-input-7-e1be4645fbcf>:15: DtypeWarning: Columns (35) have mixed types. Specify dtype option on import or set low_memory=False.\n",
            "  df_jeju_2021 = pd.read_csv('/content/drive/MyDrive/Colab Notebooks/2021/소상공인시장진흥공단_상가(상권)정보_제주_202112.csv')\n",
            "<ipython-input-7-e1be4645fbcf>:16: DtypeWarning: Columns (35) have mixed types. Specify dtype option on import or set low_memory=False.\n",
            "  df_chungnam_2021 = pd.read_csv('/content/drive/MyDrive/Colab Notebooks/2021/소상공인시장진흥공단_상가(상권)정보_충남_202112.csv')\n",
            "<ipython-input-7-e1be4645fbcf>:17: DtypeWarning: Columns (35) have mixed types. Specify dtype option on import or set low_memory=False.\n",
            "  df_chungbuk_2021 = pd.read_csv('/content/drive/MyDrive/Colab Notebooks/2021/소상공인시장진흥공단_상가(상권)정보_충북_202112.csv')\n"
          ]
        }
      ]
    },
    {
      "cell_type": "code",
      "source": [
        "df_2021 = pd.concat([df_gangwon_2021,\n",
        "df_gyeonggi_2021,\n",
        "df_gyeongnam_2021,\n",
        "df_gyeongbuk_2021,\n",
        "df_gwangju_2021,\n",
        "df_daegu_2021,\n",
        "df_daejeon_2021,\n",
        "df_busan_2021,\n",
        "df_seoul_2021,\n",
        "df_sejong_2021,\n",
        "df_ulsan_2021,\n",
        "df_incheon_2021,\n",
        "df_jeonnam_2021,\n",
        "df_jeonbuk_2021,\n",
        "df_jeju_2021,\n",
        "df_chungnam_2021,\n",
        "df_chungbuk_2021,], axis=0)"
      ],
      "metadata": {
        "id": "xM1YPu-BhLvS"
      },
      "execution_count": 8,
      "outputs": []
    },
    {
      "cell_type": "code",
      "source": [
        "# 상호명이 null인 열을 지움\n",
        "df_2021.dropna(subset=['상호명'], inplace=True)\n",
        "df_2022.dropna(subset=['상호명'], inplace=True)\n",
        "df_2023.dropna(subset=['상호명'], inplace=True)"
      ],
      "metadata": {
        "id": "q13I021cimaF"
      },
      "execution_count": 9,
      "outputs": []
    },
    {
      "cell_type": "code",
      "source": [
        "# 상호명이 맥도날드이거나 맥도널드인 열들을 담음\n",
        "df_2021_mc = df_2021.loc[df_2021[\"상호명\"].str.contains(r'맥도날드|맥도널드')]\n",
        "\n",
        "df_2022_mc = df_2022.loc[df_2022[\"상호명\"].str.contains(r'맥도날드|맥도널드')]\n",
        "\n",
        "df_2023_mc = df_2023.loc[df_2023[\"상호명\"].str.contains(r'맥도날드|맥도널드')]"
      ],
      "metadata": {
        "id": "R7wJf4gvhnli"
      },
      "execution_count": 10,
      "outputs": []
    },
    {
      "cell_type": "code",
      "source": [
        "# '년도' 컬럼이 존재하는지 확인\n",
        "\"년도\" in df_2021_mc.columns"
      ],
      "metadata": {
        "colab": {
          "base_uri": "https://localhost:8080/"
        },
        "id": "tMOzribgia8t",
        "outputId": "d3789230-ef31-421f-a2f2-17bdd880f4c8"
      },
      "execution_count": 11,
      "outputs": [
        {
          "output_type": "execute_result",
          "data": {
            "text/plain": [
              "False"
            ]
          },
          "metadata": {},
          "execution_count": 11
        }
      ]
    },
    {
      "cell_type": "code",
      "source": [
        "# 년도라는 파생변수를 생성하여 년도별로 년도를 기입함\n",
        "df_2021_mc[\"년도\"] = 2021\n",
        "df_2022_mc[\"년도\"] = 2022\n",
        "df_2023_mc[\"년도\"] = 2023"
      ],
      "metadata": {
        "colab": {
          "base_uri": "https://localhost:8080/"
        },
        "id": "h0yb27lWjPGa",
        "outputId": "dc3644fc-ed7b-4ca3-db5a-026b8036ca64"
      },
      "execution_count": 12,
      "outputs": [
        {
          "output_type": "stream",
          "name": "stderr",
          "text": [
            "<ipython-input-12-fd2a53e22bdb>:2: SettingWithCopyWarning: \n",
            "A value is trying to be set on a copy of a slice from a DataFrame.\n",
            "Try using .loc[row_indexer,col_indexer] = value instead\n",
            "\n",
            "See the caveats in the documentation: https://pandas.pydata.org/pandas-docs/stable/user_guide/indexing.html#returning-a-view-versus-a-copy\n",
            "  df_2021_mc[\"년도\"] = 2021\n",
            "<ipython-input-12-fd2a53e22bdb>:3: SettingWithCopyWarning: \n",
            "A value is trying to be set on a copy of a slice from a DataFrame.\n",
            "Try using .loc[row_indexer,col_indexer] = value instead\n",
            "\n",
            "See the caveats in the documentation: https://pandas.pydata.org/pandas-docs/stable/user_guide/indexing.html#returning-a-view-versus-a-copy\n",
            "  df_2022_mc[\"년도\"] = 2022\n",
            "<ipython-input-12-fd2a53e22bdb>:4: SettingWithCopyWarning: \n",
            "A value is trying to be set on a copy of a slice from a DataFrame.\n",
            "Try using .loc[row_indexer,col_indexer] = value instead\n",
            "\n",
            "See the caveats in the documentation: https://pandas.pydata.org/pandas-docs/stable/user_guide/indexing.html#returning-a-view-versus-a-copy\n",
            "  df_2023_mc[\"년도\"] = 2023\n"
          ]
        }
      ]
    },
    {
      "cell_type": "code",
      "source": [
        "# 모든 년도 데이터를 합침\n",
        "df_all_mc = pd.concat([df_2021_mc, df_2022_mc, df_2023_mc], axis=0)"
      ],
      "metadata": {
        "id": "3Zp5GTqlj0Al"
      },
      "execution_count": 13,
      "outputs": []
    },
    {
      "cell_type": "code",
      "source": [
        "# '년도'를 기준으로 그룹화하고, 그룹별로 맥도날드 매장의 수를 구해서 df_all_mc에 재 저장\n",
        "df_all_mc = df_all_mc.groupby('년도').size().reset_index(name='매장 수')"
      ],
      "metadata": {
        "id": "634pLGWLjnDe"
      },
      "execution_count": 14,
      "outputs": []
    },
    {
      "cell_type": "code",
      "source": [
        "df_all_mc"
      ],
      "metadata": {
        "colab": {
          "base_uri": "https://localhost:8080/",
          "height": 143
        },
        "id": "KDzjQvGJkC8i",
        "outputId": "77168808-b2a3-49d7-823d-9d2b67ce0419"
      },
      "execution_count": 15,
      "outputs": [
        {
          "output_type": "execute_result",
          "data": {
            "text/plain": [
              "     년도  매장 수\n",
              "0  2021   478\n",
              "1  2022   476\n",
              "2  2023   407"
            ],
            "text/html": [
              "\n",
              "  <div id=\"df-b3353d62-0e44-463e-b1f5-ab6c9b3578cb\">\n",
              "    <div class=\"colab-df-container\">\n",
              "      <div>\n",
              "<style scoped>\n",
              "    .dataframe tbody tr th:only-of-type {\n",
              "        vertical-align: middle;\n",
              "    }\n",
              "\n",
              "    .dataframe tbody tr th {\n",
              "        vertical-align: top;\n",
              "    }\n",
              "\n",
              "    .dataframe thead th {\n",
              "        text-align: right;\n",
              "    }\n",
              "</style>\n",
              "<table border=\"1\" class=\"dataframe\">\n",
              "  <thead>\n",
              "    <tr style=\"text-align: right;\">\n",
              "      <th></th>\n",
              "      <th>년도</th>\n",
              "      <th>매장 수</th>\n",
              "    </tr>\n",
              "  </thead>\n",
              "  <tbody>\n",
              "    <tr>\n",
              "      <th>0</th>\n",
              "      <td>2021</td>\n",
              "      <td>478</td>\n",
              "    </tr>\n",
              "    <tr>\n",
              "      <th>1</th>\n",
              "      <td>2022</td>\n",
              "      <td>476</td>\n",
              "    </tr>\n",
              "    <tr>\n",
              "      <th>2</th>\n",
              "      <td>2023</td>\n",
              "      <td>407</td>\n",
              "    </tr>\n",
              "  </tbody>\n",
              "</table>\n",
              "</div>\n",
              "      <button class=\"colab-df-convert\" onclick=\"convertToInteractive('df-b3353d62-0e44-463e-b1f5-ab6c9b3578cb')\"\n",
              "              title=\"Convert this dataframe to an interactive table.\"\n",
              "              style=\"display:none;\">\n",
              "        \n",
              "  <svg xmlns=\"http://www.w3.org/2000/svg\" height=\"24px\"viewBox=\"0 0 24 24\"\n",
              "       width=\"24px\">\n",
              "    <path d=\"M0 0h24v24H0V0z\" fill=\"none\"/>\n",
              "    <path d=\"M18.56 5.44l.94 2.06.94-2.06 2.06-.94-2.06-.94-.94-2.06-.94 2.06-2.06.94zm-11 1L8.5 8.5l.94-2.06 2.06-.94-2.06-.94L8.5 2.5l-.94 2.06-2.06.94zm10 10l.94 2.06.94-2.06 2.06-.94-2.06-.94-.94-2.06-.94 2.06-2.06.94z\"/><path d=\"M17.41 7.96l-1.37-1.37c-.4-.4-.92-.59-1.43-.59-.52 0-1.04.2-1.43.59L10.3 9.45l-7.72 7.72c-.78.78-.78 2.05 0 2.83L4 21.41c.39.39.9.59 1.41.59.51 0 1.02-.2 1.41-.59l7.78-7.78 2.81-2.81c.8-.78.8-2.07 0-2.86zM5.41 20L4 18.59l7.72-7.72 1.47 1.35L5.41 20z\"/>\n",
              "  </svg>\n",
              "      </button>\n",
              "      \n",
              "  <style>\n",
              "    .colab-df-container {\n",
              "      display:flex;\n",
              "      flex-wrap:wrap;\n",
              "      gap: 12px;\n",
              "    }\n",
              "\n",
              "    .colab-df-convert {\n",
              "      background-color: #E8F0FE;\n",
              "      border: none;\n",
              "      border-radius: 50%;\n",
              "      cursor: pointer;\n",
              "      display: none;\n",
              "      fill: #1967D2;\n",
              "      height: 32px;\n",
              "      padding: 0 0 0 0;\n",
              "      width: 32px;\n",
              "    }\n",
              "\n",
              "    .colab-df-convert:hover {\n",
              "      background-color: #E2EBFA;\n",
              "      box-shadow: 0px 1px 2px rgba(60, 64, 67, 0.3), 0px 1px 3px 1px rgba(60, 64, 67, 0.15);\n",
              "      fill: #174EA6;\n",
              "    }\n",
              "\n",
              "    [theme=dark] .colab-df-convert {\n",
              "      background-color: #3B4455;\n",
              "      fill: #D2E3FC;\n",
              "    }\n",
              "\n",
              "    [theme=dark] .colab-df-convert:hover {\n",
              "      background-color: #434B5C;\n",
              "      box-shadow: 0px 1px 3px 1px rgba(0, 0, 0, 0.15);\n",
              "      filter: drop-shadow(0px 1px 2px rgba(0, 0, 0, 0.3));\n",
              "      fill: #FFFFFF;\n",
              "    }\n",
              "  </style>\n",
              "\n",
              "      <script>\n",
              "        const buttonEl =\n",
              "          document.querySelector('#df-b3353d62-0e44-463e-b1f5-ab6c9b3578cb button.colab-df-convert');\n",
              "        buttonEl.style.display =\n",
              "          google.colab.kernel.accessAllowed ? 'block' : 'none';\n",
              "\n",
              "        async function convertToInteractive(key) {\n",
              "          const element = document.querySelector('#df-b3353d62-0e44-463e-b1f5-ab6c9b3578cb');\n",
              "          const dataTable =\n",
              "            await google.colab.kernel.invokeFunction('convertToInteractive',\n",
              "                                                     [key], {});\n",
              "          if (!dataTable) return;\n",
              "\n",
              "          const docLinkHtml = 'Like what you see? Visit the ' +\n",
              "            '<a target=\"_blank\" href=https://colab.research.google.com/notebooks/data_table.ipynb>data table notebook</a>'\n",
              "            + ' to learn more about interactive tables.';\n",
              "          element.innerHTML = '';\n",
              "          dataTable['output_type'] = 'display_data';\n",
              "          await google.colab.output.renderOutput(dataTable, element);\n",
              "          const docLink = document.createElement('div');\n",
              "          docLink.innerHTML = docLinkHtml;\n",
              "          element.appendChild(docLink);\n",
              "        }\n",
              "      </script>\n",
              "    </div>\n",
              "  </div>\n",
              "  "
            ]
          },
          "metadata": {},
          "execution_count": 15
        }
      ]
    },
    {
      "cell_type": "code",
      "source": [
        "# 년도별 증감량을 보기 위해 선그래프 생성\n",
        "# 맥도날드의 매장수가 줄어드는걸 알 수 있음.\n",
        "plt.figure(figsize=(12,8))\n",
        "plt.xticks(rotation=45)\n",
        "plt.gca().xaxis.set_major_locator(plt.MaxNLocator(integer=True))\n",
        "sns.lineplot(data=df_all_mc, x=\"년도\", y=\"매장 수\")"
      ],
      "metadata": {
        "colab": {
          "base_uri": "https://localhost:8080/",
          "height": 733
        },
        "id": "PyRAT8LCkZKI",
        "outputId": "982bbb46-5965-4a53-8b58-c8c9a16cc966"
      },
      "execution_count": 16,
      "outputs": [
        {
          "output_type": "execute_result",
          "data": {
            "text/plain": [
              "<Axes: xlabel='년도', ylabel='매장 수'>"
            ]
          },
          "metadata": {},
          "execution_count": 16
        },
        {
          "output_type": "display_data",
          "data": {
            "text/plain": [
              "<Figure size 1200x800 with 1 Axes>"
            ],
            "image/png": "[encoded data removed]"
          },
          "metadata": {}
        }
      ]
    }
  ]
}