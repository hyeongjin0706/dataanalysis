{
  "nbformat": 4,
  "nbformat_minor": 0,
  "metadata": {
    "colab": {
      "provenance": [],
      "authorship_tag": "ABX9TyNaj9h5wN/cLPWGZ2KbWdi9",
      "include_colab_link": true
    },
    "kernelspec": {
      "name": "python3",
      "display_name": "Python 3"
    },
    "language_info": {
      "name": "python"
    }
  },
  "cells": [
    {
      "cell_type": "markdown",
      "metadata": {
        "id": "view-in-github",
        "colab_type": "text"
      },
      "source": [
        "<a href=\"https://colab.research.google.com/github/hyeongjin0706/dataanalysis/blob/1_Numpy/1_Numpy.ipynb\" target=\"_parent\"><img src=\"https://colab.research.google.com/assets/colab-badge.svg\" alt=\"Open In Colab\"/></a>"
      ]
    },
    {
      "cell_type": "markdown",
      "source": [
        "# 1. 넘파이(Numpy)\n",
        "* 수학, 과학 계산용 패키지\n",
        "* 자료구조(**ndarray**)를 제공 -> 파이썬의 list보다 속도가 빠름, 적은 메모리를 사용"
      ],
      "metadata": {
        "id": "VOZ6DCFGN8vO"
      }
    },
    {
      "cell_type": "markdown",
      "source": [
        "numpy 설치"
      ],
      "metadata": {
        "id": "VtOAL3_iR7el"
      }
    },
    {
      "cell_type": "code",
      "source": [
        "!pip install numpy"
      ],
      "metadata": {
        "colab": {
          "base_uri": "https://localhost:8080/"
        },
        "id": "kTbxxCVTRqjH",
        "outputId": "36ab1ed4-3594-4562-e596-cf2aeeb0d561"
      },
      "execution_count": null,
      "outputs": [
        {
          "output_type": "stream",
          "name": "stdout",
          "text": [
            "Looking in indexes: https://pypi.org/simple, https://us-python.pkg.dev/colab-wheels/public/simple/\n",
            "Requirement already satisfied: numpy in /usr/local/lib/python3.10/dist-packages (1.22.4)\n"
          ]
        }
      ]
    },
    {
      "cell_type": "markdown",
      "source": [
        "numpy 사용"
      ],
      "metadata": {
        "id": "7fORmKwiSCqM"
      }
    },
    {
      "cell_type": "code",
      "source": [
        "import numpy"
      ],
      "metadata": {
        "id": "6_1Tx9ZAR2Wa"
      },
      "execution_count": null,
      "outputs": []
    },
    {
      "cell_type": "markdown",
      "source": [
        "라이브러리 위치"
      ],
      "metadata": {
        "id": "8y64VnnWSZnL"
      }
    },
    {
      "cell_type": "code",
      "source": [
        "numpy"
      ],
      "metadata": {
        "colab": {
          "base_uri": "https://localhost:8080/"
        },
        "id": "smTvGj2BSFKU",
        "outputId": "de03d984-21c6-4bcd-bb2b-3e1b4356d3e0"
      },
      "execution_count": null,
      "outputs": [
        {
          "output_type": "execute_result",
          "data": {
            "text/plain": [
              "<module 'numpy' from '/usr/local/lib/python3.10/dist-packages/numpy/__init__.py'>"
            ]
          },
          "metadata": {},
          "execution_count": 4
        }
      ]
    },
    {
      "cell_type": "code",
      "source": [
        "import numpy as np"
      ],
      "metadata": {
        "id": "2v2iS26lSGx1"
      },
      "execution_count": null,
      "outputs": []
    },
    {
      "cell_type": "code",
      "source": [
        "np"
      ],
      "metadata": {
        "colab": {
          "base_uri": "https://localhost:8080/"
        },
        "id": "xLLtRtlaSezP",
        "outputId": "b0dbf5d4-1a64-456a-a8bf-fe317d57ef2e"
      },
      "execution_count": null,
      "outputs": [
        {
          "output_type": "execute_result",
          "data": {
            "text/plain": [
              "<module 'numpy' from '/usr/local/lib/python3.10/dist-packages/numpy/__init__.py'>"
            ]
          },
          "metadata": {},
          "execution_count": 6
        }
      ]
    },
    {
      "cell_type": "markdown",
      "source": [
        "### 1-1. ndarray"
      ],
      "metadata": {
        "id": "OuGLt58lSfZi"
      }
    },
    {
      "cell_type": "code",
      "source": [
        "list1 = [1, 2, 3, 4]\n",
        "list2 = [[1,2,3,4], [5,6,7,8]]\n",
        "print(list1)\n",
        "print(list2)\n",
        "print(type(list1))\n",
        "print(type(list1[0]))\n",
        "print(type(list2))"
      ],
      "metadata": {
        "colab": {
          "base_uri": "https://localhost:8080/"
        },
        "id": "SvtFkC2lSjAW",
        "outputId": "d11022ee-85da-47eb-bf36-19dc44645842"
      },
      "execution_count": null,
      "outputs": [
        {
          "output_type": "stream",
          "name": "stdout",
          "text": [
            "[1, 2, 3, 4]\n",
            "[[1, 2, 3, 4], [5, 6, 7, 8]]\n",
            "<class 'list'>\n",
            "<class 'int'>\n",
            "<class 'list'>\n"
          ]
        }
      ]
    },
    {
      "cell_type": "code",
      "source": [
        "ndarr1 = np.array([1,2,3,4])\n",
        "print(ndarr1)\n",
        "print(type(ndarr1)) # ndarray = n dimension array"
      ],
      "metadata": {
        "colab": {
          "base_uri": "https://localhost:8080/"
        },
        "id": "5x2DxPJkS9Ml",
        "outputId": "4853dd47-44fe-44e4-b72c-788d3fb35e73"
      },
      "execution_count": null,
      "outputs": [
        {
          "output_type": "stream",
          "name": "stdout",
          "text": [
            "[1 2 3 4]\n",
            "<class 'numpy.ndarray'>\n"
          ]
        }
      ]
    },
    {
      "cell_type": "code",
      "source": [
        "# 리스트를 ndarray로 변환하는 방법\n",
        "ndarr1 = np.array(list1)\n",
        "ndarr2 = np.array(list2)\n",
        "\n",
        "print(ndarr1)\n",
        "print(ndarr2)\n",
        "print(type(ndarr1))\n",
        "print(type(ndarr2))"
      ],
      "metadata": {
        "colab": {
          "base_uri": "https://localhost:8080/"
        },
        "id": "qtSpmbVfTccY",
        "outputId": "3b64e839-b60b-477b-c5bb-62f1a077881b"
      },
      "execution_count": null,
      "outputs": [
        {
          "output_type": "stream",
          "name": "stdout",
          "text": [
            "[1 2 3 4]\n",
            "[[1 2 3 4]\n",
            " [5 6 7 8]]\n",
            "<class 'numpy.ndarray'>\n",
            "<class 'numpy.ndarray'>\n"
          ]
        }
      ]
    },
    {
      "cell_type": "markdown",
      "source": [
        "### 1-2. ndarray의 data type\n",
        "* ndarray는 list와 다르게 1개의 단일 데이터 타입만 허용"
      ],
      "metadata": {
        "id": "n-gsxVnPUS7Q"
      }
    },
    {
      "cell_type": "code",
      "source": [
        "list1 = [1, 3.14, \"python\", \"😎\", True]"
      ],
      "metadata": {
        "id": "mTlfHi8NVcVw"
      },
      "execution_count": null,
      "outputs": []
    },
    {
      "cell_type": "code",
      "source": [
        "list1"
      ],
      "metadata": {
        "colab": {
          "base_uri": "https://localhost:8080/"
        },
        "id": "YdeXmGhcVm64",
        "outputId": "a92af0a4-b0e1-4d08-eabd-942d47c3268f"
      },
      "execution_count": null,
      "outputs": [
        {
          "output_type": "execute_result",
          "data": {
            "text/plain": [
              "[1, 3.14, 'python', '😎', True]"
            ]
          },
          "metadata": {},
          "execution_count": 14
        }
      ]
    },
    {
      "cell_type": "code",
      "source": [
        "list1[3]"
      ],
      "metadata": {
        "colab": {
          "base_uri": "https://localhost:8080/",
          "height": 35
        },
        "id": "qTYVuzg8VpXL",
        "outputId": "a38f5bda-542c-446a-8b7a-c8a4e9aa683f"
      },
      "execution_count": null,
      "outputs": [
        {
          "output_type": "execute_result",
          "data": {
            "text/plain": [
              "'😎'"
            ],
            "application/vnd.google.colaboratory.intrinsic+json": {
              "type": "string"
            }
          },
          "metadata": {},
          "execution_count": 15
        }
      ]
    },
    {
      "cell_type": "code",
      "source": [
        "ndarr1 = np.array([1,2,3,4])"
      ],
      "metadata": {
        "id": "8Xi2Z9YXVt5r"
      },
      "execution_count": null,
      "outputs": []
    },
    {
      "cell_type": "code",
      "source": [
        "ndarr1"
      ],
      "metadata": {
        "colab": {
          "base_uri": "https://localhost:8080/"
        },
        "id": "LtrUhQ_xVz0U",
        "outputId": "5fd1ea4e-5ab0-42b8-aa81-22d6a88a632a"
      },
      "execution_count": null,
      "outputs": [
        {
          "output_type": "execute_result",
          "data": {
            "text/plain": [
              "array([1, 2, 3, 4])"
            ]
          },
          "metadata": {},
          "execution_count": 17
        }
      ]
    },
    {
      "cell_type": "code",
      "source": [
        "ndarr2 = np.array([1,2,3.14,4]) # 모든 요소가 float로 변경됨"
      ],
      "metadata": {
        "id": "yOkIc1REV1k4"
      },
      "execution_count": null,
      "outputs": []
    },
    {
      "cell_type": "code",
      "source": [
        "ndarr2"
      ],
      "metadata": {
        "colab": {
          "base_uri": "https://localhost:8080/"
        },
        "id": "gmTlwyCKV5EB",
        "outputId": "ee88625a-558c-4d10-e5d4-1f37cf821a9a"
      },
      "execution_count": null,
      "outputs": [
        {
          "output_type": "execute_result",
          "data": {
            "text/plain": [
              "array([1.  , 2.  , 3.14, 4.  ])"
            ]
          },
          "metadata": {},
          "execution_count": 19
        }
      ]
    },
    {
      "cell_type": "code",
      "source": [
        "ndarr3 = np.array([1,2,3.14, True]) # 모든 요소가 float로 변경됨"
      ],
      "metadata": {
        "id": "uWCljXvpV7ZQ"
      },
      "execution_count": null,
      "outputs": []
    },
    {
      "cell_type": "code",
      "source": [
        "ndarr3"
      ],
      "metadata": {
        "colab": {
          "base_uri": "https://localhost:8080/"
        },
        "id": "s3UyotEIWRam",
        "outputId": "13379e6a-a4bd-4393-c3f1-8226de842231"
      },
      "execution_count": null,
      "outputs": [
        {
          "output_type": "execute_result",
          "data": {
            "text/plain": [
              "array([1.  , 2.  , 3.14, 1.  ])"
            ]
          },
          "metadata": {},
          "execution_count": 21
        }
      ]
    },
    {
      "cell_type": "code",
      "source": [
        "ndarr4 = np.array([\"1\",2,3.14, True]) # 모든 요소가 string로 변경됨"
      ],
      "metadata": {
        "id": "ZNo3L0E9WTHX"
      },
      "execution_count": null,
      "outputs": []
    },
    {
      "cell_type": "code",
      "source": [
        "ndarr4 # dtype='<U32' 유니코드 데이터 타입"
      ],
      "metadata": {
        "colab": {
          "base_uri": "https://localhost:8080/"
        },
        "id": "W_7IbWyTWeVs",
        "outputId": "004a2dab-35ff-4c47-ac64-92b67940ecea"
      },
      "execution_count": null,
      "outputs": [
        {
          "output_type": "execute_result",
          "data": {
            "text/plain": [
              "array(['1', '2', '3.14', 'True'], dtype='<U32')"
            ]
          },
          "metadata": {},
          "execution_count": 23
        }
      ]
    },
    {
      "cell_type": "code",
      "source": [
        "type(ndarr4)"
      ],
      "metadata": {
        "colab": {
          "base_uri": "https://localhost:8080/"
        },
        "id": "-N8R1e5LWfwq",
        "outputId": "f2685912-dc4d-42d8-9ada-7fdeb4a8c005"
      },
      "execution_count": null,
      "outputs": [
        {
          "output_type": "execute_result",
          "data": {
            "text/plain": [
              "numpy.ndarray"
            ]
          },
          "metadata": {},
          "execution_count": 24
        }
      ]
    },
    {
      "cell_type": "code",
      "source": [
        "ndarr3 = np.array([1,2,3.14, True], dtype=int) # datatype을 int로 설정"
      ],
      "metadata": {
        "id": "ANMbPiWEWwoR"
      },
      "execution_count": null,
      "outputs": []
    },
    {
      "cell_type": "code",
      "source": [
        "ndarr3"
      ],
      "metadata": {
        "colab": {
          "base_uri": "https://localhost:8080/"
        },
        "id": "EX4emb9cbjjC",
        "outputId": "0aa06700-1237-4200-ebb1-3a5ac3d34874"
      },
      "execution_count": null,
      "outputs": [
        {
          "output_type": "execute_result",
          "data": {
            "text/plain": [
              "array([1, 2, 3, 1])"
            ]
          },
          "metadata": {},
          "execution_count": 26
        }
      ]
    },
    {
      "cell_type": "code",
      "source": [
        "ndarr4 = np.array([\"1\",2,3.14, True], dtype=int) # datatype을 int로 설정"
      ],
      "metadata": {
        "id": "nQ-EP839blCl"
      },
      "execution_count": null,
      "outputs": []
    },
    {
      "cell_type": "code",
      "source": [
        "ndarr4"
      ],
      "metadata": {
        "colab": {
          "base_uri": "https://localhost:8080/"
        },
        "id": "tSnZR5srb11E",
        "outputId": "587e21f6-d83c-44cf-8069-0def1708fc9d"
      },
      "execution_count": null,
      "outputs": [
        {
          "output_type": "execute_result",
          "data": {
            "text/plain": [
              "array([1, 2, 3, 1])"
            ]
          },
          "metadata": {},
          "execution_count": 28
        }
      ]
    },
    {
      "cell_type": "code",
      "source": [
        "ndarr5 = np.array([\"1\",2,\"3.14\", True], dtype=int) # 3.14를 바꾸지 못함"
      ],
      "metadata": {
        "colab": {
          "base_uri": "https://localhost:8080/",
          "height": 174
        },
        "id": "XBRUCgsrb3N4",
        "outputId": "8989a8c8-5e70-4c89-da79-1ced13809e23"
      },
      "execution_count": null,
      "outputs": [
        {
          "output_type": "error",
          "ename": "ValueError",
          "evalue": "ignored",
          "traceback": [
            "\u001b[0;31m---------------------------------------------------------------------------\u001b[0m",
            "\u001b[0;31mValueError\u001b[0m                                Traceback (most recent call last)",
            "\u001b[0;32m<ipython-input-29-c6d401953442>\u001b[0m in \u001b[0;36m<cell line: 1>\u001b[0;34m()\u001b[0m\n\u001b[0;32m----> 1\u001b[0;31m \u001b[0mndarr5\u001b[0m \u001b[0;34m=\u001b[0m \u001b[0mnp\u001b[0m\u001b[0;34m.\u001b[0m\u001b[0marray\u001b[0m\u001b[0;34m(\u001b[0m\u001b[0;34m[\u001b[0m\u001b[0;34m\"1\"\u001b[0m\u001b[0;34m,\u001b[0m\u001b[0;36m2\u001b[0m\u001b[0;34m,\u001b[0m\u001b[0;34m\"3.14\"\u001b[0m\u001b[0;34m,\u001b[0m \u001b[0;32mTrue\u001b[0m\u001b[0;34m]\u001b[0m\u001b[0;34m,\u001b[0m \u001b[0mdtype\u001b[0m\u001b[0;34m=\u001b[0m\u001b[0mint\u001b[0m\u001b[0;34m)\u001b[0m \u001b[0;31m# datatype을 int로 설정\u001b[0m\u001b[0;34m\u001b[0m\u001b[0;34m\u001b[0m\u001b[0m\n\u001b[0m",
            "\u001b[0;31mValueError\u001b[0m: invalid literal for int() with base 10: '3.14'"
          ]
        }
      ]
    },
    {
      "cell_type": "markdown",
      "source": [
        "### 1-3. ndarray 슬라이싱"
      ],
      "metadata": {
        "id": "r4vUBk2KcE2K"
      }
    },
    {
      "cell_type": "code",
      "source": [
        "ndarr1 = np.array(['🍒','🍑','🍐','🍏'])\n",
        "ndarr1"
      ],
      "metadata": {
        "colab": {
          "base_uri": "https://localhost:8080/"
        },
        "id": "0J933dQ_cO5W",
        "outputId": "98c1e9b6-0007-4b5c-af93-65a12e5fb9ad"
      },
      "execution_count": null,
      "outputs": [
        {
          "output_type": "execute_result",
          "data": {
            "text/plain": [
              "array(['🍒', '🍑', '🍐', '🍏'], dtype='<U1')"
            ]
          },
          "metadata": {},
          "execution_count": 30
        }
      ]
    },
    {
      "cell_type": "code",
      "source": [
        "ndarr1.shape # ndarray에 저장되어있는 행렬을 보여줌"
      ],
      "metadata": {
        "colab": {
          "base_uri": "https://localhost:8080/"
        },
        "id": "UGeOJQkWccJZ",
        "outputId": "8bbb6e95-7cf5-4798-972e-c39d67780b7a"
      },
      "execution_count": null,
      "outputs": [
        {
          "output_type": "execute_result",
          "data": {
            "text/plain": [
              "(4,)"
            ]
          },
          "metadata": {},
          "execution_count": 31
        }
      ]
    },
    {
      "cell_type": "code",
      "source": [
        "# 인덱싱\n",
        "print(ndarr1[0])\n",
        "print(ndarr1[3])\n",
        "print(ndarr1[-1])\n",
        "print(ndarr1[-2])"
      ],
      "metadata": {
        "colab": {
          "base_uri": "https://localhost:8080/"
        },
        "id": "9vw7jWNsckfz",
        "outputId": "8f57f33f-056b-413f-de85-b4fc3cc52da9"
      },
      "execution_count": null,
      "outputs": [
        {
          "output_type": "stream",
          "name": "stdout",
          "text": [
            "🍒\n",
            "🍏\n",
            "🍏\n",
            "🍐\n"
          ]
        }
      ]
    },
    {
      "cell_type": "code",
      "source": [
        "# 슬라이싱 ['🍒','🍑','🍐','🍏']\n",
        "print(ndarr1[0:3])\n",
        "print(ndarr1[1:])\n",
        "print(ndarr1[:3])"
      ],
      "metadata": {
        "colab": {
          "base_uri": "https://localhost:8080/"
        },
        "id": "lAhtIn8zc03R",
        "outputId": "0e4e67de-583c-48cb-9124-2b0de0d26c39"
      },
      "execution_count": null,
      "outputs": [
        {
          "output_type": "stream",
          "name": "stdout",
          "text": [
            "['🍒' '🍑' '🍐']\n",
            "['🍑' '🍐' '🍏']\n",
            "['🍒' '🍑' '🍐']\n"
          ]
        }
      ]
    },
    {
      "cell_type": "code",
      "source": [
        "ndarr2d = np.array([[1,2,3,4], [5,6,7,8], [9,10,11,12]])\n",
        "ndarr2d.shape # (3, 4) 3행 4열\n"
      ],
      "metadata": {
        "colab": {
          "base_uri": "https://localhost:8080/"
        },
        "id": "p5vWxHYhdLOF",
        "outputId": "f3cf7536-0fbf-457c-addc-ec077a99d163"
      },
      "execution_count": null,
      "outputs": [
        {
          "output_type": "execute_result",
          "data": {
            "text/plain": [
              "(3, 4)"
            ]
          },
          "metadata": {},
          "execution_count": 40
        }
      ]
    },
    {
      "cell_type": "code",
      "source": [
        "print(ndarr2d[0,2]) # 3\n",
        "print(ndarr2d[0][2]) # 3"
      ],
      "metadata": {
        "colab": {
          "base_uri": "https://localhost:8080/"
        },
        "id": "-iVQX2JldcWV",
        "outputId": "278bebb3-f322-4884-b1d8-a12ed7b40a8f"
      },
      "execution_count": null,
      "outputs": [
        {
          "output_type": "stream",
          "name": "stdout",
          "text": [
            "3\n",
            "3\n"
          ]
        }
      ]
    },
    {
      "cell_type": "code",
      "source": [
        "# 0행 가져오기\n",
        "print(ndarr2d[0]) # [1 2 3 4] 자주 사용하는 방법\n",
        "print(ndarr2d[0,]) # [1 2 3 4] \n",
        "print(ndarr2d[0,:]) # [1 2 3 4] 자주 사용하는 방법"
      ],
      "metadata": {
        "colab": {
          "base_uri": "https://localhost:8080/"
        },
        "id": "_fmiM8ZGeBrX",
        "outputId": "acf358e6-7ecc-485f-9be7-4b9a5a14d38e"
      },
      "execution_count": null,
      "outputs": [
        {
          "output_type": "stream",
          "name": "stdout",
          "text": [
            "[1 2 3 4]\n",
            "[1 2 3 4]\n",
            "[1 2 3 4]\n"
          ]
        }
      ]
    },
    {
      "cell_type": "code",
      "source": [
        "# 0열 가져오기\n",
        "# 앞의 행은 다 가져오고 , 0열을 가져옴\n",
        "print(ndarr2d[:,0]) # [1 5 9]"
      ],
      "metadata": {
        "colab": {
          "base_uri": "https://localhost:8080/"
        },
        "id": "ffp16LOvegLk",
        "outputId": "e923dfa5-1bf7-481f-d804-59530681e35a"
      },
      "execution_count": null,
      "outputs": [
        {
          "output_type": "stream",
          "name": "stdout",
          "text": [
            "[1 5 9]\n"
          ]
        }
      ]
    },
    {
      "cell_type": "markdown",
      "source": [
        "### 1-4. Fancy 인덱싱\n",
        "* 범위가 아닌 특정 index의 집합의 값들을 선택해서 추출하고 싶을 때 활용"
      ],
      "metadata": {
        "id": "uU7F-iJOe-UB"
      }
    },
    {
      "cell_type": "code",
      "source": [
        "ndarr1 = np.array([10,15,2,8,20,90,85,44,23,32])"
      ],
      "metadata": {
        "id": "EBsNo1gcfVY6"
      },
      "execution_count": null,
      "outputs": []
    },
    {
      "cell_type": "code",
      "source": [
        "idx = [2, 5, 9]"
      ],
      "metadata": {
        "id": "FFwe968OfnDJ"
      },
      "execution_count": null,
      "outputs": []
    },
    {
      "cell_type": "code",
      "source": [
        "# 인덱스의 넣는 숫자\n",
        "ndarr1[idx] # array([ 2, 90, 32])"
      ],
      "metadata": {
        "colab": {
          "base_uri": "https://localhost:8080/"
        },
        "id": "6zxiOKTPfvzw",
        "outputId": "0c4fe6e6-be2a-499f-af3f-fc2b901c9bb6"
      },
      "execution_count": null,
      "outputs": [
        {
          "output_type": "execute_result",
          "data": {
            "text/plain": [
              "array([ 2, 90, 32])"
            ]
          },
          "metadata": {},
          "execution_count": 47
        }
      ]
    },
    {
      "cell_type": "code",
      "source": [
        "ndarr2d = np.array([[1,2,3,4], \n",
        "                    [5,6,7,8], \n",
        "                    [9,10,11,12]])"
      ],
      "metadata": {
        "id": "q6I4yX74fywp"
      },
      "execution_count": null,
      "outputs": []
    },
    {
      "cell_type": "code",
      "source": [
        "ndarr2d[[0,1],:]"
      ],
      "metadata": {
        "colab": {
          "base_uri": "https://localhost:8080/"
        },
        "id": "jmBIDxJGgQUf",
        "outputId": "9fa713c3-d673-491c-af8e-535a702c4d71"
      },
      "execution_count": null,
      "outputs": [
        {
          "output_type": "execute_result",
          "data": {
            "text/plain": [
              "array([[1, 2, 3, 4],\n",
              "       [5, 6, 7, 8]])"
            ]
          },
          "metadata": {},
          "execution_count": 49
        }
      ]
    },
    {
      "cell_type": "markdown",
      "source": [
        "### 1-5. Boolean 인덱싱\n",
        "* 조건에 대한 필터링을 통해 Boolean 값을 이용한 색인을 사용"
      ],
      "metadata": {
        "id": "kbmPFvFwgWc1"
      }
    },
    {
      "cell_type": "code",
      "source": [
        "ndarr1 = np.array(['🍒','🍑','🍐','🍏','🍕'])\n",
        "selValue = [True, False, True, True, False]"
      ],
      "metadata": {
        "id": "RRKjqKyOgoEJ"
      },
      "execution_count": null,
      "outputs": []
    },
    {
      "cell_type": "code",
      "source": [
        "# 중요! True인것만 뽑힘\n",
        "ndarr1[selValue] # array(['🍒', '🍐', '🍏'], dtype='<U1')"
      ],
      "metadata": {
        "colab": {
          "base_uri": "https://localhost:8080/"
        },
        "id": "Rl_v1hkAhJD4",
        "outputId": "9678ce16-18bb-4e0b-f75e-50cda5d7cc03"
      },
      "execution_count": null,
      "outputs": [
        {
          "output_type": "execute_result",
          "data": {
            "text/plain": [
              "array(['🍒', '🍐', '🍏'], dtype='<U1')"
            ]
          },
          "metadata": {},
          "execution_count": 51
        }
      ]
    },
    {
      "cell_type": "code",
      "source": [
        "selValue = [True, False, True]"
      ],
      "metadata": {
        "id": "9P7CcHBahNFZ"
      },
      "execution_count": null,
      "outputs": []
    },
    {
      "cell_type": "code",
      "source": [
        "ndarr1[selValue] # 숫자가 맞지 않기 때문에 에러 발생!"
      ],
      "metadata": {
        "colab": {
          "base_uri": "https://localhost:8080/",
          "height": 174
        },
        "id": "Qmf1L-sMhY0O",
        "outputId": "bd29025b-e319-4b7e-f52e-b23eb262db74"
      },
      "execution_count": null,
      "outputs": [
        {
          "output_type": "error",
          "ename": "IndexError",
          "evalue": "ignored",
          "traceback": [
            "\u001b[0;31m---------------------------------------------------------------------------\u001b[0m",
            "\u001b[0;31mIndexError\u001b[0m                                Traceback (most recent call last)",
            "\u001b[0;32m<ipython-input-53-3365a515ea60>\u001b[0m in \u001b[0;36m<cell line: 1>\u001b[0;34m()\u001b[0m\n\u001b[0;32m----> 1\u001b[0;31m \u001b[0mndarr1\u001b[0m\u001b[0;34m[\u001b[0m\u001b[0mselValue\u001b[0m\u001b[0;34m]\u001b[0m\u001b[0;34m\u001b[0m\u001b[0;34m\u001b[0m\u001b[0m\n\u001b[0m",
            "\u001b[0;31mIndexError\u001b[0m: boolean index did not match indexed array along dimension 0; dimension is 5 but corresponding boolean dimension is 3"
          ]
        }
      ]
    },
    {
      "cell_type": "code",
      "source": [
        "ndarr2d = np.array([[1,2,3,4], \n",
        "                    [5,6,7,8], \n",
        "                    [9,10,11,12]])"
      ],
      "metadata": {
        "id": "IqxrFzw4hcO3"
      },
      "execution_count": null,
      "outputs": []
    },
    {
      "cell_type": "code",
      "source": [
        "ndarr2d > 7 #boolean화가 되어 7보다 큰 값들만 True로 표현"
      ],
      "metadata": {
        "colab": {
          "base_uri": "https://localhost:8080/"
        },
        "id": "dL33_meChj07",
        "outputId": "9f15a5f3-7be8-4d1d-cc1f-e6ced20423cb"
      },
      "execution_count": null,
      "outputs": [
        {
          "output_type": "execute_result",
          "data": {
            "text/plain": [
              "array([[False, False, False, False],\n",
              "       [False, False, False,  True],\n",
              "       [ True,  True,  True,  True]])"
            ]
          },
          "metadata": {},
          "execution_count": 55
        }
      ]
    },
    {
      "cell_type": "code",
      "source": [
        "ndarr2d[ndarr2d > 7] # 7보다 큰 값들만 뽑힘"
      ],
      "metadata": {
        "colab": {
          "base_uri": "https://localhost:8080/"
        },
        "id": "_WzYTIB9hxf2",
        "outputId": "4bf44323-0d88-49b0-a6e2-468041c5b023"
      },
      "execution_count": null,
      "outputs": [
        {
          "output_type": "execute_result",
          "data": {
            "text/plain": [
              "array([ 8,  9, 10, 11, 12])"
            ]
          },
          "metadata": {},
          "execution_count": 56
        }
      ]
    },
    {
      "cell_type": "markdown",
      "source": [
        "# 2. 행렬 연산"
      ],
      "metadata": {
        "id": "Z9JJwUM-h9Kh"
      }
    },
    {
      "cell_type": "markdown",
      "source": [
        "### 2-1. 연산자\n",
        "* 덧셈, 뺄셈, 곱셈, 나눗셈은 shape가 같아야 함\n",
        "* 같은 postition끼리 연산\n",
        "* 내적(dot product)은 맞닿는 shape가 같아야 함\n",
        "* 내적은 떨어져 있는 shape가 결과 행렬이 됨"
      ],
      "metadata": {
        "id": "IaLYK_sliHbH"
      }
    },
    {
      "cell_type": "code",
      "source": [
        "a = np.array([[1,2,3],\n",
        "             [2,3,4]])\n",
        "b = np.array([[3,4,5],\n",
        "             [1,2,3]])\n",
        "\n",
        "a.shape, b.shape"
      ],
      "metadata": {
        "colab": {
          "base_uri": "https://localhost:8080/"
        },
        "id": "lPMhnlAXiULo",
        "outputId": "e68b28af-478f-47e0-872b-81a1ab3adb65"
      },
      "execution_count": null,
      "outputs": [
        {
          "output_type": "execute_result",
          "data": {
            "text/plain": [
              "((2, 3), (2, 3))"
            ]
          },
          "metadata": {},
          "execution_count": 64
        }
      ]
    },
    {
      "cell_type": "code",
      "source": [
        "# 덧셈연산\n",
        "a + b\n",
        "\n",
        "# array([[4, 6, 8],\n",
        "#      [3, 5, 7]])"
      ],
      "metadata": {
        "colab": {
          "base_uri": "https://localhost:8080/"
        },
        "id": "Q9BnO64YifKZ",
        "outputId": "154f1d9d-6245-4a86-99b0-4db5dc4609f5"
      },
      "execution_count": null,
      "outputs": [
        {
          "output_type": "execute_result",
          "data": {
            "text/plain": [
              "array([[4, 6, 8],\n",
              "       [3, 5, 7]])"
            ]
          },
          "metadata": {},
          "execution_count": 65
        }
      ]
    },
    {
      "cell_type": "code",
      "source": [
        "# a = np.array([[1,2,3],\n",
        "#              [2,3,4]])\n",
        "# b = np.array([[3,4,5],\n",
        "#              [1,2,3]])\n",
        "\n",
        "# a + b shpae가 다르므로 에러"
      ],
      "metadata": {
        "id": "SDth5mCpizy3"
      },
      "execution_count": null,
      "outputs": []
    },
    {
      "cell_type": "code",
      "source": [
        "# 뺄셈 연산\n",
        "a - b"
      ],
      "metadata": {
        "colab": {
          "base_uri": "https://localhost:8080/"
        },
        "id": "fielM8VgjIQL",
        "outputId": "1395fe46-428d-4eef-949f-cfa0eaf9bfcc"
      },
      "execution_count": null,
      "outputs": [
        {
          "output_type": "execute_result",
          "data": {
            "text/plain": [
              "array([[-2, -2, -2],\n",
              "       [ 1,  1,  1]])"
            ]
          },
          "metadata": {},
          "execution_count": 66
        }
      ]
    },
    {
      "cell_type": "code",
      "source": [
        "# 곱셈 연산\n",
        "a * b"
      ],
      "metadata": {
        "colab": {
          "base_uri": "https://localhost:8080/"
        },
        "id": "uUZ4AHb7jLcM",
        "outputId": "3ea9e39f-143f-4422-efce-cb8e65a5423f"
      },
      "execution_count": null,
      "outputs": [
        {
          "output_type": "execute_result",
          "data": {
            "text/plain": [
              "array([[ 3,  8, 15],\n",
              "       [ 2,  6, 12]])"
            ]
          },
          "metadata": {},
          "execution_count": 67
        }
      ]
    },
    {
      "cell_type": "code",
      "source": [
        "# 나눗셈 연산\n",
        "a / b"
      ],
      "metadata": {
        "colab": {
          "base_uri": "https://localhost:8080/"
        },
        "id": "Z_gXqr0yjboW",
        "outputId": "0079ad0c-1f6f-42af-e109-0dec882d6b22"
      },
      "execution_count": null,
      "outputs": [
        {
          "output_type": "execute_result",
          "data": {
            "text/plain": [
              "array([[0.33333333, 0.5       , 0.6       ],\n",
              "       [2.        , 1.5       , 1.33333333]])"
            ]
          },
          "metadata": {},
          "execution_count": 68
        }
      ]
    },
    {
      "cell_type": "code",
      "source": [
        "# dot product(행렬곱, 내적)\n",
        "# 영상관련 딥러닝할때 많이 쓰임\n",
        "a = np.array([[1,2,3],\n",
        "              [1,2,3],\n",
        "              [2,3,4]])\n",
        "\n",
        "b = np.array([[1,2],\n",
        "              [3,4],\n",
        "              [5,6]])"
      ],
      "metadata": {
        "id": "rr_AyWw3jduV"
      },
      "execution_count": null,
      "outputs": []
    },
    {
      "cell_type": "code",
      "source": [
        "a.shape, b.shape"
      ],
      "metadata": {
        "colab": {
          "base_uri": "https://localhost:8080/"
        },
        "id": "5jjVBje3kSbV",
        "outputId": "146b2821-e538-4ce3-8a6d-1bf5b54fa7a2"
      },
      "execution_count": null,
      "outputs": [
        {
          "output_type": "execute_result",
          "data": {
            "text/plain": [
              "((3, 3), (3, 2))"
            ]
          },
          "metadata": {},
          "execution_count": 70
        }
      ]
    },
    {
      "cell_type": "code",
      "source": [
        "print((1*1 + 2*3 + 3*5), (1*2 + 2*4 + 3*6))\n",
        "print((1*1 + 2*3 + 3*5), (1*2 + 2*4 + 3*6))\n",
        "print((2*1 + 3*3 + 4*5), (2*2 + 3*4 + 4*6))"
      ],
      "metadata": {
        "colab": {
          "base_uri": "https://localhost:8080/"
        },
        "id": "jX8LqQDmkVRv",
        "outputId": "fb21d9ed-8ec8-46b6-cc45-891bf2f7ecc1"
      },
      "execution_count": null,
      "outputs": [
        {
          "output_type": "stream",
          "name": "stdout",
          "text": [
            "22 28\n",
            "22 28\n",
            "31 40\n"
          ]
        }
      ]
    },
    {
      "cell_type": "code",
      "source": [
        "np.dot(a,b)"
      ],
      "metadata": {
        "colab": {
          "base_uri": "https://localhost:8080/"
        },
        "id": "YKY-_cndlLob",
        "outputId": "b53d1963-c8be-4974-e22e-4ed1e54166cc"
      },
      "execution_count": null,
      "outputs": [
        {
          "output_type": "execute_result",
          "data": {
            "text/plain": [
              "array([[22, 28],\n",
              "       [22, 28],\n",
              "       [31, 40]])"
            ]
          },
          "metadata": {},
          "execution_count": 73
        }
      ]
    },
    {
      "cell_type": "markdown",
      "source": [
        "### 2-2. arange\n",
        "* 순차적인 값을 생성할 때 사용"
      ],
      "metadata": {
        "id": "UKu7NByilnAm"
      }
    },
    {
      "cell_type": "code",
      "source": [
        "arr1 = range(1, 11)"
      ],
      "metadata": {
        "id": "b3gumPr1oaJC"
      },
      "execution_count": null,
      "outputs": []
    },
    {
      "cell_type": "code",
      "source": [
        "arr1"
      ],
      "metadata": {
        "colab": {
          "base_uri": "https://localhost:8080/"
        },
        "id": "s44uHHLDoc7K",
        "outputId": "60132aea-1479-4db7-a629-7db9ae6f83e9"
      },
      "execution_count": null,
      "outputs": [
        {
          "output_type": "execute_result",
          "data": {
            "text/plain": [
              "range(1, 11)"
            ]
          },
          "metadata": {},
          "execution_count": 75
        }
      ]
    },
    {
      "cell_type": "code",
      "source": [
        "for i in arr1:\n",
        "    print(i, end=' ')"
      ],
      "metadata": {
        "colab": {
          "base_uri": "https://localhost:8080/"
        },
        "id": "UuTnkE74okwO",
        "outputId": "ac26e7bd-95de-44ab-f15f-9a71388cc575"
      },
      "execution_count": null,
      "outputs": [
        {
          "output_type": "stream",
          "name": "stdout",
          "text": [
            "1 2 3 4 5 6 7 8 9 10 "
          ]
        }
      ]
    },
    {
      "cell_type": "code",
      "source": [
        "arr2 = np.arange(1,11)"
      ],
      "metadata": {
        "id": "xXfRZ7lXooZl"
      },
      "execution_count": null,
      "outputs": []
    },
    {
      "cell_type": "code",
      "source": [
        "arr2"
      ],
      "metadata": {
        "colab": {
          "base_uri": "https://localhost:8080/"
        },
        "id": "D50FyVyrortS",
        "outputId": "8d8ce14f-54a1-4958-fdbd-b22c9b7aa6f3"
      },
      "execution_count": null,
      "outputs": [
        {
          "output_type": "execute_result",
          "data": {
            "text/plain": [
              "array([ 1,  2,  3,  4,  5,  6,  7,  8,  9, 10])"
            ]
          },
          "metadata": {},
          "execution_count": 78
        }
      ]
    },
    {
      "cell_type": "code",
      "source": [
        "for i in arr2:\n",
        "    print(i, end=' ')"
      ],
      "metadata": {
        "colab": {
          "base_uri": "https://localhost:8080/"
        },
        "id": "HvEHlAgposb9",
        "outputId": "05583be9-68fd-4893-a84c-9c5086d0df49"
      },
      "execution_count": null,
      "outputs": [
        {
          "output_type": "stream",
          "name": "stdout",
          "text": [
            "1 2 3 4 5 6 7 8 9 10 "
          ]
        }
      ]
    },
    {
      "cell_type": "markdown",
      "source": [
        "### 2-3. sort"
      ],
      "metadata": {
        "id": "wG0shh57o090"
      }
    },
    {
      "cell_type": "code",
      "source": [
        "ndarr1 = np.array([1,10,5,7,2,4,3,6,8,9])\n",
        "ndarr1"
      ],
      "metadata": {
        "colab": {
          "base_uri": "https://localhost:8080/"
        },
        "id": "IZ3AxZdso_MM",
        "outputId": "84e0630e-4c94-42eb-ae6b-b250af905458"
      },
      "execution_count": null,
      "outputs": [
        {
          "output_type": "execute_result",
          "data": {
            "text/plain": [
              "array([ 1, 10,  5,  7,  2,  4,  3,  6,  8,  9])"
            ]
          },
          "metadata": {},
          "execution_count": 80
        }
      ]
    },
    {
      "cell_type": "code",
      "source": [
        "np.sort(ndarr1)"
      ],
      "metadata": {
        "colab": {
          "base_uri": "https://localhost:8080/"
        },
        "id": "DwNsua0mpcMm",
        "outputId": "38f8299b-575c-4d6f-fa5f-6e2be18b8e56"
      },
      "execution_count": null,
      "outputs": [
        {
          "output_type": "execute_result",
          "data": {
            "text/plain": [
              "array([ 1,  2,  3,  4,  5,  6,  7,  8,  9, 10])"
            ]
          },
          "metadata": {},
          "execution_count": 81
        }
      ]
    },
    {
      "cell_type": "code",
      "source": [
        "ndarr1"
      ],
      "metadata": {
        "colab": {
          "base_uri": "https://localhost:8080/"
        },
        "id": "86cUy1nwpg1u",
        "outputId": "888fa620-2cac-4244-a9ea-4846a779975b"
      },
      "execution_count": null,
      "outputs": [
        {
          "output_type": "execute_result",
          "data": {
            "text/plain": [
              "array([ 1, 10,  5,  7,  2,  4,  3,  6,  8,  9])"
            ]
          },
          "metadata": {},
          "execution_count": 82
        }
      ]
    },
    {
      "cell_type": "code",
      "source": [
        "np.sort(ndarr1, reverse=True) # reverse 속성이 없음"
      ],
      "metadata": {
        "colab": {
          "base_uri": "https://localhost:8080/",
          "height": 211
        },
        "id": "JyvKcAuSplBC",
        "outputId": "14cbdb32-490d-47a9-c075-2252d63eda0a"
      },
      "execution_count": null,
      "outputs": [
        {
          "output_type": "error",
          "ename": "TypeError",
          "evalue": "ignored",
          "traceback": [
            "\u001b[0;31m---------------------------------------------------------------------------\u001b[0m",
            "\u001b[0;31mTypeError\u001b[0m                                 Traceback (most recent call last)",
            "\u001b[0;32m<ipython-input-83-67c7f5149acc>\u001b[0m in \u001b[0;36m<cell line: 1>\u001b[0;34m()\u001b[0m\n\u001b[0;32m----> 1\u001b[0;31m \u001b[0mnp\u001b[0m\u001b[0;34m.\u001b[0m\u001b[0msort\u001b[0m\u001b[0;34m(\u001b[0m\u001b[0mndarr1\u001b[0m\u001b[0;34m,\u001b[0m \u001b[0mreverse\u001b[0m\u001b[0;34m=\u001b[0m\u001b[0;32mTrue\u001b[0m\u001b[0;34m)\u001b[0m\u001b[0;34m\u001b[0m\u001b[0;34m\u001b[0m\u001b[0m\n\u001b[0m",
            "\u001b[0;32m/usr/local/lib/python3.10/dist-packages/numpy/core/overrides.py\u001b[0m in \u001b[0;36msort\u001b[0;34m(*args, **kwargs)\u001b[0m\n",
            "\u001b[0;31mTypeError\u001b[0m: _sort_dispatcher() got an unexpected keyword argument 'reverse'"
          ]
        }
      ]
    },
    {
      "cell_type": "code",
      "source": [
        "# 문자열 역순으로 출력하기\n",
        "str1 = 'Python'\n",
        "print(str1[:]) # 모든 문자를 슬라이싱\n",
        "print(str1[::]) # print(str1[::1]) -> 1: 정방향\n",
        "print(str1[::-1]) # print(str1[::-1]) -> -1 :역방향\n",
        "print(str1[4:1:-1]) # 4번 인덱스부터 1직전까지 역순으로 가져오기\n",
        "print(str1[4::-1]) # 4번 인덱스부터 0까지 역순으로 가져오기"
      ],
      "metadata": {
        "colab": {
          "base_uri": "https://localhost:8080/"
        },
        "id": "0s-pLntcpt7f",
        "outputId": "9adc0866-5666-4cc2-eb1e-a242056ec23e"
      },
      "execution_count": null,
      "outputs": [
        {
          "output_type": "stream",
          "name": "stdout",
          "text": [
            "Python\n",
            "Python\n",
            "nohtyP\n",
            "oht\n",
            "ohtyP\n"
          ]
        }
      ]
    },
    {
      "cell_type": "code",
      "source": [
        "np.sort(ndarr1)[::-1] # 내림차순 정렬"
      ],
      "metadata": {
        "colab": {
          "base_uri": "https://localhost:8080/"
        },
        "id": "VkhPyQkYqCua",
        "outputId": "4c8c0c9e-7b15-4623-bdea-6aec61ae8a2a"
      },
      "execution_count": null,
      "outputs": [
        {
          "output_type": "execute_result",
          "data": {
            "text/plain": [
              "array([10,  9,  8,  7,  6,  5,  4,  3,  2,  1])"
            ]
          },
          "metadata": {},
          "execution_count": 89
        }
      ]
    },
    {
      "cell_type": "code",
      "source": [
        "ndarr2d = np.array([[11,10,12,9],\n",
        "                   [3,1,4,2],\n",
        "                   [5,6,7,8]])"
      ],
      "metadata": {
        "id": "iAorLsnprJN6"
      },
      "execution_count": null,
      "outputs": []
    },
    {
      "cell_type": "code",
      "source": [
        "ndarr2d.shape #(3, 4)"
      ],
      "metadata": {
        "colab": {
          "base_uri": "https://localhost:8080/"
        },
        "id": "jmMtNEcXrZlE",
        "outputId": "52ea91b4-bbc1-445a-da9b-310020a3bcc8"
      },
      "execution_count": null,
      "outputs": [
        {
          "output_type": "execute_result",
          "data": {
            "text/plain": [
              "(3, 4)"
            ]
          },
          "metadata": {},
          "execution_count": 92
        }
      ]
    },
    {
      "cell_type": "code",
      "source": [
        "# 행 정렬(axis=0)\n",
        "np.sort(ndarr2d, axis=0) "
      ],
      "metadata": {
        "colab": {
          "base_uri": "https://localhost:8080/"
        },
        "id": "7ysgK2tgrfP9",
        "outputId": "a1f5f4b8-4099-437b-fd6f-85feae85be9d"
      },
      "execution_count": null,
      "outputs": [
        {
          "output_type": "execute_result",
          "data": {
            "text/plain": [
              "array([[ 3,  1,  4,  2],\n",
              "       [ 5,  6,  7,  8],\n",
              "       [11, 10, 12,  9]])"
            ]
          },
          "metadata": {},
          "execution_count": 96
        }
      ]
    },
    {
      "cell_type": "code",
      "source": [
        "# 열 정렬(axis=1)\n",
        "np.sort(ndarr2d, axis=1)"
      ],
      "metadata": {
        "colab": {
          "base_uri": "https://localhost:8080/"
        },
        "id": "_h8k5AIKrhpY",
        "outputId": "b13191f4-54c3-44e5-8b7d-c0c49dd5941e"
      },
      "execution_count": null,
      "outputs": [
        {
          "output_type": "execute_result",
          "data": {
            "text/plain": [
              "array([[ 9, 10, 11, 12],\n",
              "       [ 1,  2,  3,  4],\n",
              "       [ 5,  6,  7,  8]])"
            ]
          },
          "metadata": {},
          "execution_count": 97
        }
      ]
    },
    {
      "cell_type": "code",
      "source": [
        "np.sort(ndarr2d, axis=1)[:,::-1]"
      ],
      "metadata": {
        "colab": {
          "base_uri": "https://localhost:8080/"
        },
        "id": "D2fgk8TysE3f",
        "outputId": "2f857bfe-d40f-4e0c-c9bb-32b65d66c7b7"
      },
      "execution_count": null,
      "outputs": [
        {
          "output_type": "execute_result",
          "data": {
            "text/plain": [
              "array([[12, 11, 10,  9],\n",
              "       [ 4,  3,  2,  1],\n",
              "       [ 8,  7,  6,  5]])"
            ]
          },
          "metadata": {},
          "execution_count": 110
        }
      ]
    },
    {
      "cell_type": "code",
      "source": [
        "# 축의 마지막 방향\n",
        "np.sort(ndarr2d, axis=-1)"
      ],
      "metadata": {
        "colab": {
          "base_uri": "https://localhost:8080/"
        },
        "id": "fFCRl7KFsgIm",
        "outputId": "326eebc6-4e4d-4122-dccd-d1d80e0267ad"
      },
      "execution_count": null,
      "outputs": [
        {
          "output_type": "execute_result",
          "data": {
            "text/plain": [
              "array([[ 9, 10, 11, 12],\n",
              "       [ 1,  2,  3,  4],\n",
              "       [ 5,  6,  7,  8]])"
            ]
          },
          "metadata": {},
          "execution_count": 112
        }
      ]
    },
    {
      "cell_type": "markdown",
      "source": [
        "### 2-4. 숫자의 단일 연산\n"
      ],
      "metadata": {
        "id": "O_y1BW7kuolA"
      }
    },
    {
      "cell_type": "code",
      "source": [
        "a = np.array([[1,2,3],\n",
        "              [4,5,6]])"
      ],
      "metadata": {
        "id": "b3QuoJh7u1Oh"
      },
      "execution_count": null,
      "outputs": []
    },
    {
      "cell_type": "code",
      "source": [
        "# 모든 요소에 3을 더함\n",
        "a+3"
      ],
      "metadata": {
        "colab": {
          "base_uri": "https://localhost:8080/"
        },
        "id": "bnl4XkePu5zV",
        "outputId": "7504dfa2-fe39-40c2-98b8-2330f2e74cde"
      },
      "execution_count": null,
      "outputs": [
        {
          "output_type": "execute_result",
          "data": {
            "text/plain": [
              "array([[4, 5, 6],\n",
              "       [7, 8, 9]])"
            ]
          },
          "metadata": {},
          "execution_count": 116
        }
      ]
    },
    {
      "cell_type": "code",
      "source": [
        "a-3"
      ],
      "metadata": {
        "colab": {
          "base_uri": "https://localhost:8080/"
        },
        "id": "AfF0M295vC1-",
        "outputId": "9f351cb0-42e3-4816-bb44-08a8564b1fb2"
      },
      "execution_count": null,
      "outputs": [
        {
          "output_type": "execute_result",
          "data": {
            "text/plain": [
              "array([[-2, -1,  0],\n",
              "       [ 1,  2,  3]])"
            ]
          },
          "metadata": {},
          "execution_count": 117
        }
      ]
    },
    {
      "cell_type": "code",
      "source": [
        "a*3"
      ],
      "metadata": {
        "colab": {
          "base_uri": "https://localhost:8080/"
        },
        "id": "SEcAXdZTvFvL",
        "outputId": "08314d68-bf67-475e-9676-a9957cbe5b72"
      },
      "execution_count": null,
      "outputs": [
        {
          "output_type": "execute_result",
          "data": {
            "text/plain": [
              "array([[ 3,  6,  9],\n",
              "       [12, 15, 18]])"
            ]
          },
          "metadata": {},
          "execution_count": 118
        }
      ]
    },
    {
      "cell_type": "code",
      "source": [
        "a/3"
      ],
      "metadata": {
        "colab": {
          "base_uri": "https://localhost:8080/"
        },
        "id": "rd0lvGRrvGcP",
        "outputId": "2788ce9d-cb89-4771-92df-9007aa003ab0"
      },
      "execution_count": null,
      "outputs": [
        {
          "output_type": "execute_result",
          "data": {
            "text/plain": [
              "array([[0.33333333, 0.66666667, 1.        ],\n",
              "       [1.33333333, 1.66666667, 2.        ]])"
            ]
          },
          "metadata": {},
          "execution_count": 119
        }
      ]
    },
    {
      "cell_type": "code",
      "source": [
        "b = np.array([[3,3,3],\n",
        "             [3,3,3]])"
      ],
      "metadata": {
        "id": "8R8vguvpvHDD"
      },
      "execution_count": null,
      "outputs": []
    },
    {
      "cell_type": "code",
      "source": [
        "a+b"
      ],
      "metadata": {
        "colab": {
          "base_uri": "https://localhost:8080/"
        },
        "id": "LjR6laYXvQro",
        "outputId": "f013fba3-70f3-405e-f135-583b5b6e7895"
      },
      "execution_count": null,
      "outputs": [
        {
          "output_type": "execute_result",
          "data": {
            "text/plain": [
              "array([[4, 5, 6],\n",
              "       [7, 8, 9]])"
            ]
          },
          "metadata": {},
          "execution_count": 126
        }
      ]
    },
    {
      "cell_type": "code",
      "source": [],
      "metadata": {
        "id": "pWHsKHzYvUNL"
      },
      "execution_count": null,
      "outputs": []
    }
  ]
}